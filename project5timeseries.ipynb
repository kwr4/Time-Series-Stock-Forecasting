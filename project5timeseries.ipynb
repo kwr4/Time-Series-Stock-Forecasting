{
 "cells": [
  {
   "cell_type": "code",
   "execution_count": 1,
   "id": "4edd641f",
   "metadata": {},
   "outputs": [
    {
     "name": "stderr",
     "output_type": "stream",
     "text": [
      "D:\\Downloads\\Anucleus\\lib\\site-packages\\numpy\\_distributor_init.py:30: UserWarning: loaded more than 1 DLL from .libs:\n",
      "D:\\Downloads\\Anucleus\\lib\\site-packages\\numpy\\.libs\\libopenblas.EL2C6PLE4ZYW3ECEVIV3OXXGRN2NRFM2.gfortran-win_amd64.dll\n",
      "D:\\Downloads\\Anucleus\\lib\\site-packages\\numpy\\.libs\\libopenblas.FB5AE2TYXYH2IJRDKGDGQ3XBKLKTF43H.gfortran-win_amd64.dll\n",
      "  warnings.warn(\"loaded more than 1 DLL from .libs:\"\n"
     ]
    },
    {
     "ename": "ModuleNotFoundError",
     "evalue": "No module named 'pmdarima'",
     "output_type": "error",
     "traceback": [
      "\u001b[1;31m---------------------------------------------------------------------------\u001b[0m",
      "\u001b[1;31mModuleNotFoundError\u001b[0m                       Traceback (most recent call last)",
      "\u001b[1;32m~\\AppData\\Local\\Temp/ipykernel_12560/1317131782.py\u001b[0m in \u001b[0;36m<module>\u001b[1;34m\u001b[0m\n\u001b[0;32m     21\u001b[0m \u001b[1;32mfrom\u001b[0m \u001b[0msklearn\u001b[0m\u001b[1;33m.\u001b[0m\u001b[0mmetrics\u001b[0m \u001b[1;32mimport\u001b[0m \u001b[0mmean_squared_error\u001b[0m\u001b[1;33m,\u001b[0m \u001b[0mmean_absolute_error\u001b[0m\u001b[1;33m,\u001b[0m \u001b[0mmean_absolute_percentage_error\u001b[0m\u001b[1;33m\u001b[0m\u001b[1;33m\u001b[0m\u001b[0m\n\u001b[0;32m     22\u001b[0m \u001b[1;33m\u001b[0m\u001b[0m\n\u001b[1;32m---> 23\u001b[1;33m \u001b[1;32mimport\u001b[0m \u001b[0mpmdarima\u001b[0m\u001b[1;33m\u001b[0m\u001b[1;33m\u001b[0m\u001b[0m\n\u001b[0m\u001b[0;32m     24\u001b[0m \u001b[1;32mfrom\u001b[0m \u001b[0mpmdarima\u001b[0m\u001b[1;33m.\u001b[0m\u001b[0marima\u001b[0m\u001b[1;33m.\u001b[0m\u001b[0mutils\u001b[0m \u001b[1;32mimport\u001b[0m \u001b[0mndiffs\u001b[0m\u001b[1;33m\u001b[0m\u001b[1;33m\u001b[0m\u001b[0m\n",
      "\u001b[1;31mModuleNotFoundError\u001b[0m: No module named 'pmdarima'"
     ]
    }
   ],
   "source": [
    "import warnings\n",
    "\n",
    "import numpy as np\n",
    "import pandas as pd\n",
    "\n",
    "import matplotlib.pyplot as plt\n",
    "import seaborn as sns\n",
    "\n",
    "import math\n",
    "import itertools\n",
    "from random import choice\n",
    "\n",
    "from datetime import datetime\n",
    "from datetime import timedelta\n",
    "\n",
    "from statsmodels.tsa.arima.model import ARIMA\n",
    "from statsmodels.tsa.stattools import adfuller\n",
    "from statsmodels.graphics.tsaplots import plot_acf, plot_pacf\n",
    "from statsmodels.tsa.holtwinters import SimpleExpSmoothing\n",
    "\n",
    "from sklearn.metrics import mean_squared_error, mean_absolute_error, mean_absolute_percentage_error\n",
    "\n",
    "import pmdarima\n",
    "from pmdarima.arima.utils import ndiffs"
   ]
  },
  {
   "cell_type": "code",
   "execution_count": 2,
   "id": "795a9517",
   "metadata": {},
   "outputs": [],
   "source": [
    "df = pd.read_csv(\"2020Q1Q2Q3Q4-2021Q1.csv\")"
   ]
  },
  {
   "cell_type": "code",
   "execution_count": 3,
   "id": "d55c43be",
   "metadata": {},
   "outputs": [
    {
     "data": {
      "text/plain": [
       "<bound method DataFrame.info of                 Date           Price                Open             High  \\\n",
       "0       Mar 31, 2021          291.02                 294           294.42   \n",
       "1       Mar 30, 2021          293.25              294.86           295.72   \n",
       "2       Mar 29, 2021           293.3              289.72           294.09   \n",
       "3       Mar 26, 2021          291.22              288.63           292.75   \n",
       "4       Mar 25, 2021          286.66               286.5           287.03   \n",
       "..               ...             ...                 ...              ...   \n",
       "307     Jan 09, 2020          257.99               259.4           261.76   \n",
       "308     Jan 08, 2020          259.15              253.57           259.15   \n",
       "309     Jan 06, 2020           253.9              254.75           254.84   \n",
       "310     Jan 03, 2020             255              255.99           258.19   \n",
       "311  Highest: 296.07  Lowest: 172.15  Difference: 123.92  Average: 234.52   \n",
       "\n",
       "                 Low    Vol. Change %  \n",
       "0             290.26  47.00M   -0.76%  \n",
       "1              291.5  38.81M   -0.02%  \n",
       "2             289.26  43.68M    0.71%  \n",
       "3             288.32  56.07M    1.59%  \n",
       "4             283.85  35.22M    0.30%  \n",
       "..               ...     ...      ...  \n",
       "307           257.01  38.33M   -0.45%  \n",
       "308           253.03  40.82M    2.07%  \n",
       "309            251.4  22.35M   -0.43%  \n",
       "310            253.7  35.85M    0.10%  \n",
       "311  Change %: 14.24     NaN      NaN  \n",
       "\n",
       "[312 rows x 7 columns]>"
      ]
     },
     "execution_count": 3,
     "metadata": {},
     "output_type": "execute_result"
    }
   ],
   "source": [
    "df.info"
   ]
  },
  {
   "cell_type": "code",
   "execution_count": 4,
   "id": "a048ed45",
   "metadata": {},
   "outputs": [
    {
     "data": {
      "text/plain": [
       "['Russia - Sberbank Rossii PAO (S',\n",
       " 'Turkey - Koc Holding AS (KCHOL)',\n",
       " 'Egypt - Medinet Nasr Housing (M',\n",
       " 'Brazil - Minerva SABrazil (BEEF',\n",
       " 'Argentina - Pampa Energia SA (P',\n",
       " 'Colombia - Cementos Argos SA (C',\n",
       " 'South Africa - Impala Platinum ',\n",
       " 'South Korea - Dongkuk Steel Mil']"
      ]
     },
     "execution_count": 4,
     "metadata": {},
     "output_type": "execute_result"
    }
   ],
   "source": [
    "\n",
    "df=pd.ExcelFile('trading_portfolio.xlsx')  \n",
    "df.sheet_names"
   ]
  },
  {
   "cell_type": "code",
   "execution_count": 5,
   "id": "da9d8d8b",
   "metadata": {},
   "outputs": [],
   "source": [
    "def read_clean_sheet (excel_file, sheet_name):\n",
    "    \"\"\"\n",
    "    Input : Excel file in xlsx format\n",
    "            sheet_name that is to be read into a dataframe\n",
    "    Output : dataframe\n",
    "    \"\"\"\n",
    "    df = pd.read_excel(excel_file, sheet_name = sheet_name)\n",
    "    df = df.copy()\n",
    "    df = df[:-1] #drop the last row\n",
    "    df = df[df['Vol.']!='-'] # drop any rows where 'Vol' values are not specified (i.e. '-')\n",
    "    df['Date'] = pd.to_datetime(df['Date'])#convert 'Date' column to datetime\n",
    "    df = df.sort_values(['Date'], axis = 0, ascending=True, ignore_index =True) #arrange the data in ascending order\n",
    "    df[['Price','Open', 'High', 'Low', 'Change %']] = df[['Price','Open', 'High', 'Low', 'Change %']].apply(pd.to_numeric)#convert\n",
    "    #other columns to numeric values\n",
    "    \n",
    "    #drop the 'M' from 'Vol' column values indicating millions of shares\n",
    "    # if the 'Vol' value is reported in thousands, i.e. 'K', then drop the 'K', convert the value to float and divide by 1000 to\n",
    "    # to convert to millions, in line with other values in the 'Vol' column\n",
    "    # the one line of code below accomplishes the 'Vol' value conversion\n",
    "    df['Vol.'] = df['Vol.'].apply(lambda x: x[:-1] if 'M' in x else (float(x[:-1])/1000)).astype('float32')\n",
    "    return df"
   ]
  },
  {
   "cell_type": "code",
   "execution_count": 6,
   "id": "b2581282",
   "metadata": {},
   "outputs": [],
   "source": [
    "excel_file = 'trading_portfolio.xlsx'"
   ]
  },
  {
   "cell_type": "code",
   "execution_count": 7,
   "id": "98040063",
   "metadata": {},
   "outputs": [
    {
     "data": {
      "text/plain": [
       "<pandas.io.excel._base.ExcelFile at 0x1fc619f7280>"
      ]
     },
     "execution_count": 7,
     "metadata": {},
     "output_type": "execute_result"
    }
   ],
   "source": [
    "trading_portfolio = pd.ExcelFile(excel_file)\n",
    "trading_portfolio"
   ]
  },
  {
   "cell_type": "code",
   "execution_count": 8,
   "id": "3972b985",
   "metadata": {},
   "outputs": [
    {
     "data": {
      "text/html": [
       "<div>\n",
       "<style scoped>\n",
       "    .dataframe tbody tr th:only-of-type {\n",
       "        vertical-align: middle;\n",
       "    }\n",
       "\n",
       "    .dataframe tbody tr th {\n",
       "        vertical-align: top;\n",
       "    }\n",
       "\n",
       "    .dataframe thead th {\n",
       "        text-align: right;\n",
       "    }\n",
       "</style>\n",
       "<table border=\"1\" class=\"dataframe\">\n",
       "  <thead>\n",
       "    <tr style=\"text-align: right;\">\n",
       "      <th></th>\n",
       "      <th>Date</th>\n",
       "      <th>Price</th>\n",
       "      <th>Open</th>\n",
       "      <th>High</th>\n",
       "      <th>Low</th>\n",
       "      <th>Vol.</th>\n",
       "      <th>Change %</th>\n",
       "    </tr>\n",
       "  </thead>\n",
       "  <tbody>\n",
       "    <tr>\n",
       "      <th>0</th>\n",
       "      <td>2020-01-03</td>\n",
       "      <td>255.00</td>\n",
       "      <td>255.99</td>\n",
       "      <td>258.19</td>\n",
       "      <td>253.70</td>\n",
       "      <td>35.849998</td>\n",
       "      <td>0.0010</td>\n",
       "    </tr>\n",
       "    <tr>\n",
       "      <th>1</th>\n",
       "      <td>2020-01-06</td>\n",
       "      <td>253.90</td>\n",
       "      <td>254.75</td>\n",
       "      <td>254.84</td>\n",
       "      <td>251.40</td>\n",
       "      <td>22.350000</td>\n",
       "      <td>-0.0043</td>\n",
       "    </tr>\n",
       "    <tr>\n",
       "      <th>2</th>\n",
       "      <td>2020-01-08</td>\n",
       "      <td>259.15</td>\n",
       "      <td>253.57</td>\n",
       "      <td>259.15</td>\n",
       "      <td>253.03</td>\n",
       "      <td>40.820000</td>\n",
       "      <td>0.0207</td>\n",
       "    </tr>\n",
       "    <tr>\n",
       "      <th>3</th>\n",
       "      <td>2020-01-09</td>\n",
       "      <td>257.99</td>\n",
       "      <td>259.40</td>\n",
       "      <td>261.76</td>\n",
       "      <td>257.01</td>\n",
       "      <td>38.330002</td>\n",
       "      <td>-0.0045</td>\n",
       "    </tr>\n",
       "    <tr>\n",
       "      <th>4</th>\n",
       "      <td>2020-01-10</td>\n",
       "      <td>258.19</td>\n",
       "      <td>257.86</td>\n",
       "      <td>259.25</td>\n",
       "      <td>256.88</td>\n",
       "      <td>18.850000</td>\n",
       "      <td>0.0008</td>\n",
       "    </tr>\n",
       "  </tbody>\n",
       "</table>\n",
       "</div>"
      ],
      "text/plain": [
       "        Date   Price    Open    High     Low       Vol.  Change %\n",
       "0 2020-01-03  255.00  255.99  258.19  253.70  35.849998    0.0010\n",
       "1 2020-01-06  253.90  254.75  254.84  251.40  22.350000   -0.0043\n",
       "2 2020-01-08  259.15  253.57  259.15  253.03  40.820000    0.0207\n",
       "3 2020-01-09  257.99  259.40  261.76  257.01  38.330002   -0.0045\n",
       "4 2020-01-10  258.19  257.86  259.25  256.88  18.850000    0.0008"
      ]
     },
     "execution_count": 8,
     "metadata": {},
     "output_type": "execute_result"
    }
   ],
   "source": [
    "df = read_clean_sheet (excel_file, trading_portfolio.sheet_names[0])\n",
    "df.head()"
   ]
  },
  {
   "cell_type": "code",
   "execution_count": 10,
   "id": "8adf4b3f",
   "metadata": {},
   "outputs": [
    {
     "name": "stdout",
     "output_type": "stream",
     "text": [
      "<class 'pandas.core.frame.DataFrame'>\n",
      "RangeIndex: 311 entries, 0 to 310\n",
      "Data columns (total 7 columns):\n",
      " #   Column    Non-Null Count  Dtype         \n",
      "---  ------    --------------  -----         \n",
      " 0   Date      311 non-null    datetime64[ns]\n",
      " 1   Price     311 non-null    float64       \n",
      " 2   Open      311 non-null    float64       \n",
      " 3   High      311 non-null    float64       \n",
      " 4   Low       311 non-null    float64       \n",
      " 5   Vol.      311 non-null    float32       \n",
      " 6   Change %  311 non-null    float64       \n",
      "dtypes: datetime64[ns](1), float32(1), float64(5)\n",
      "memory usage: 15.9 KB\n"
     ]
    }
   ],
   "source": [
    "df.info()"
   ]
  },
  {
   "cell_type": "code",
   "execution_count": 11,
   "id": "8559c15e",
   "metadata": {},
   "outputs": [
    {
     "data": {
      "image/png": "[encoded data removed]",
      "text/plain": [
       "<Figure size 576x288 with 1 Axes>"
      ]
     },
     "metadata": {
      "needs_background": "light"
     },
     "output_type": "display_data"
    }
   ],
   "source": [
    "# plot the 'Price' and 'Vol.' columns, both normalized to their maximum values (so as to observe if there are trends between\n",
    "# the stock price and the volume)\n",
    "plt.figure(figsize = (8,4))\n",
    "sns.lineplot(x = df['Date'], y = df['Price']/df['Price'].max())\n",
    "sns.lineplot(x = df['Date'], y = df['Vol.']/df['Vol.'].max())\n",
    "plt.xticks(rotation= 90)\n",
    "plt.ylabel('Normalized Values')\n",
    "plt.legend(loc = 'upper left', labels= ['Normalized Stock Price','Normalized Volume (in millions)'])\n",
    "plt.show()\n",
    "#there is no clear trend. Some increases in the price (between 2020-11 and 2021-01) is preceded by large transaction volumes\n",
    "# while others (e.g. between 2020-4 and 2020-6) is not. \n",
    "# So transaction volumnes may not be a good indicator of a subsequent increase in stock prices"
   ]
  },
  {
   "cell_type": "code",
   "execution_count": 12,
   "id": "17c1576e",
   "metadata": {},
   "outputs": [],
   "source": [
    "#define function to split data into training and testing sets\n",
    "#also creates datasets for an exogenous variable (e.g. volume)\n",
    "def train_test_sets (df, exog_var = 'Vol.'):\n",
    "    \"\"\"\n",
    "    Input : dataframe, exogenous variable to be used in the ARIMAX model\n",
    "    Output: X_train and X_test for the time series data that is to be predicted\n",
    "            X_train_exog, X_test_exog for the exogenous variable\n",
    "    \"\"\"\n",
    "    X_train = list(df[pd.DatetimeIndex(df['Date']).year == 2020]['Price'].values)\n",
    "    X_test = list(df[pd.DatetimeIndex(df['Date']).year == 2021]['Price'].values)\n",
    "    X_train_exog = list(df[pd.DatetimeIndex(df['Date']).year == 2020][exog_var].values)\n",
    "    X_test_exog = list(df[pd.DatetimeIndex(df['Date']).year == 2021][exog_var].values)\n",
    "    \n",
    "    return X_train, X_test, X_train_exog, X_test_exog "
   ]
  },
  {
   "cell_type": "code",
   "execution_count": 13,
   "id": "eea448b6",
   "metadata": {},
   "outputs": [],
   "source": [
    "#split data in df to trainin and testing sets\n",
    "X_train, X_test, X_train_exog, X_test_exog = train_test_sets (df, exog_var = 'Vol.')"
   ]
  },
  {
   "cell_type": "code",
   "execution_count": 14,
   "id": "457d0d6a",
   "metadata": {},
   "outputs": [
    {
     "data": {
      "text/plain": [
       "[255.0,\n",
       " 253.9,\n",
       " 259.15,\n",
       " 257.99,\n",
       " 258.19,\n",
       " 262.4,\n",
       " 259.05,\n",
       " 256.31,\n",
       " 257.51,\n",
       " 262.5,\n",
       " 266.28,\n",
       " 268.06,\n",
       " 266.54,\n",
       " 263.73,\n",
       " 265.49,\n",
       " 255.32,\n",
       " 257.7,\n",
       " 259.94,\n",
       " 257.31,\n",
       " 252.2,\n",
       " 253.99,\n",
       " 255.4,\n",
       " 255.2,\n",
       " 252.11,\n",
       " 254.3,\n",
       " 252.26,\n",
       " 254.5,\n",
       " 254.5,\n",
       " 253.89,\n",
       " 251.75,\n",
       " 251.36,\n",
       " 249.2,\n",
       " 249.7,\n",
       " 250.15,\n",
       " 250.8,\n",
       " 245.19,\n",
       " 250.8,\n",
       " 242.88,\n",
       " 233.36,\n",
       " 228.17,\n",
       " 236.63,\n",
       " 235.27,\n",
       " 232.33,\n",
       " 219.99,\n",
       " 201.2,\n",
       " 194.53,\n",
       " 175.91,\n",
       " 198.6,\n",
       " 195.85,\n",
       " 184.01,\n",
       " 174.27,\n",
       " 189.51,\n",
       " 195.69,\n",
       " 183.37,\n",
       " 192.64,\n",
       " 188.08,\n",
       " 188.07,\n",
       " 180.38,\n",
       " 183.0,\n",
       " 187.21,\n",
       " 184.78,\n",
       " 186.95,\n",
       " 185.64,\n",
       " 190.7,\n",
       " 197.63,\n",
       " 200.29,\n",
       " 203.61,\n",
       " 201.99,\n",
       " 198.26,\n",
       " 197.37,\n",
       " 186.07,\n",
       " 188.5,\n",
       " 191.8,\n",
       " 189.32,\n",
       " 186.05,\n",
       " 190.2,\n",
       " 190.94,\n",
       " 188.91,\n",
       " 188.9,\n",
       " 192.8,\n",
       " 195.8,\n",
       " 197.25,\n",
       " 193.69,\n",
       " 194.75,\n",
       " 195.7,\n",
       " 195.51,\n",
       " 196.02,\n",
       " 191.4,\n",
       " 187.31,\n",
       " 183.81,\n",
       " 183.85,\n",
       " 188.93,\n",
       " 189.0,\n",
       " 193.98,\n",
       " 192.4,\n",
       " 188.9,\n",
       " 191.0,\n",
       " 194.0,\n",
       " 198.51,\n",
       " 205.0,\n",
       " 200.5,\n",
       " 203.66,\n",
       " 212.0,\n",
       " 221.5,\n",
       " 213.1,\n",
       " 219.1,\n",
       " 220.3,\n",
       " 217.23,\n",
       " 212.53,\n",
       " 208.35,\n",
       " 207.32,\n",
       " 207.76,\n",
       " 208.14,\n",
       " 203.77,\n",
       " 207.0,\n",
       " 206.4,\n",
       " 207.3,\n",
       " 206.92,\n",
       " 203.15,\n",
       " 205.8,\n",
       " 203.22,\n",
       " 209.6,\n",
       " 210.95,\n",
       " 214.61,\n",
       " 210.53,\n",
       " 210.97,\n",
       " 209.11,\n",
       " 212.28,\n",
       " 208.39,\n",
       " 209.5,\n",
       " 211.09,\n",
       " 211.35,\n",
       " 210.81,\n",
       " 213.89,\n",
       " 215.73,\n",
       " 216.71,\n",
       " 215.41,\n",
       " 215.97,\n",
       " 216.9,\n",
       " 215.53,\n",
       " 219.18,\n",
       " 218.15,\n",
       " 221.57,\n",
       " 226.72,\n",
       " 227.16,\n",
       " 226.4,\n",
       " 226.0,\n",
       " 227.28,\n",
       " 225.99,\n",
       " 232.65,\n",
       " 242.4,\n",
       " 241.39,\n",
       " 239.99,\n",
       " 237.8,\n",
       " 236.3,\n",
       " 239.4,\n",
       " 232.48,\n",
       " 231.22,\n",
       " 231.81,\n",
       " 228.08,\n",
       " 227.8,\n",
       " 226.23,\n",
       " 226.3,\n",
       " 226.1,\n",
       " 227.64,\n",
       " 222.57,\n",
       " 218.32,\n",
       " 222.21,\n",
       " 221.32,\n",
       " 217.68,\n",
       " 218.0,\n",
       " 220.6,\n",
       " 221.07,\n",
       " 227.37,\n",
       " 231.5,\n",
       " 231.06,\n",
       " 231.46,\n",
       " 230.3,\n",
       " 226.25,\n",
       " 229.88,\n",
       " 228.5,\n",
       " 228.17,\n",
       " 228.24,\n",
       " 228.63,\n",
       " 225.48,\n",
       " 229.14,\n",
       " 227.23,\n",
       " 208.8,\n",
       " 208.89,\n",
       " 211.18,\n",
       " 210.6,\n",
       " 207.97,\n",
       " 205.38,\n",
       " 206.18,\n",
       " 205.03,\n",
       " 207.83,\n",
       " 203.85,\n",
       " 201.17,\n",
       " 202.78,\n",
       " 209.54,\n",
       " 210.33,\n",
       " 210.21,\n",
       " 214.5,\n",
       " 211.1,\n",
       " 207.64,\n",
       " 204.73,\n",
       " 205.58,\n",
       " 200.99,\n",
       " 204.5,\n",
       " 209.2,\n",
       " 216.7,\n",
       " 217.5,\n",
       " 228.05,\n",
       " 236.1,\n",
       " 244.2,\n",
       " 242.08,\n",
       " 242.99,\n",
       " 247.99,\n",
       " 245.7,\n",
       " 242.71,\n",
       " 240.27,\n",
       " 239.42,\n",
       " 239.7,\n",
       " 247.33,\n",
       " 251.91,\n",
       " 250.1,\n",
       " 251.59,\n",
       " 249.63,\n",
       " 260.81,\n",
       " 264.06,\n",
       " 263.14,\n",
       " 270.0,\n",
       " 274.36,\n",
       " 275.49,\n",
       " 276.89,\n",
       " 282.2,\n",
       " 283.73,\n",
       " 279.95,\n",
       " 278.7,\n",
       " 278.35,\n",
       " 278.5,\n",
       " 270.16,\n",
       " 261.79,\n",
       " 262.04,\n",
       " 270.1,\n",
       " 269.32,\n",
       " 270.64,\n",
       " 274.7,\n",
       " 272.0,\n",
       " 271.65]"
      ]
     },
     "execution_count": 14,
     "metadata": {},
     "output_type": "execute_result"
    }
   ],
   "source": [
    "X_train"
   ]
  },
  {
   "cell_type": "code",
   "execution_count": 15,
   "id": "87eabb89",
   "metadata": {},
   "outputs": [
    {
     "data": {
      "text/plain": [
       "(250, 61)"
      ]
     },
     "execution_count": 15,
     "metadata": {},
     "output_type": "execute_result"
    }
   ],
   "source": [
    "len(X_train), len(X_test)"
   ]
  },
  {
   "cell_type": "code",
   "execution_count": 16,
   "id": "2e1c4dd9",
   "metadata": {},
   "outputs": [],
   "source": [
    "def calc_errors (preds, truths):\n",
    "    MAE = mean_absolute_error(preds, truths)\n",
    "    MSE = mean_squared_error(preds, truths)\n",
    "    MAPE = mean_absolute_percentage_error(preds, truths)\n",
    "    return MAE, MSE, MAPE"
   ]
  },
  {
   "cell_type": "code",
   "execution_count": 17,
   "id": "bf6f364d",
   "metadata": {},
   "outputs": [],
   "source": [
    "# use the above identified p, d and q values (0,1,1) or (0,1,2) to train the ARIMA model\n",
    "\n",
    "model_predictions = []\n",
    "num_test_obser = len(X_test)\n",
    "\n",
    "for i in range(num_test_obser):\n",
    "    model = ARIMA(X_train, order = (0, 1, 2)) # where p = 0 which is the number of lag observations, \n",
    "                                              #  d = 1 which is the number of times the raw observations are differenced to make them stationary\n",
    "                                              # q = 0 which is the size of the moving average window\n",
    "    model_fit =  model.fit()\n",
    "    output = model_fit.forecast()\n",
    "    \n",
    "    model_predictions.append (output[0]) # append the predicted value to the model2_predictions list\n",
    "    \n",
    "    true_test_value = X_test[i] # the corresponding test value of the X_test list\n",
    "    X_train.append(true_test_value)"
   ]
  },
  {
   "cell_type": "code",
   "execution_count": 18,
   "id": "9e8eeb1b",
   "metadata": {},
   "outputs": [
    {
     "data": {
      "text/plain": [
       "[271.7579451815724,\n",
       " 272.0132846456158,\n",
       " 275.32757531359425,\n",
       " 272.7034698348483,\n",
       " 284.13236322670747,\n",
       " 289.33596736348875,\n",
       " 289.83340297584016,\n",
       " 283.4722661807408,\n",
       " 285.0862096518104,\n",
       " 276.50158498808753]"
      ]
     },
     "execution_count": 18,
     "metadata": {},
     "output_type": "execute_result"
    }
   ],
   "source": [
    "model_predictions[:10] # compare predictions to actual share prices (next line of code)"
   ]
  },
  {
   "cell_type": "code",
   "execution_count": 19,
   "id": "83895ab8",
   "metadata": {},
   "outputs": [
    {
     "data": {
      "text/plain": [
       "[272.0, 275.2, 272.93, 283.64, 289.49, 289.99, 283.78, 284.79, 276.9, 279.79]"
      ]
     },
     "execution_count": 19,
     "metadata": {},
     "output_type": "execute_result"
    }
   ],
   "source": [
    "X_test[:10]"
   ]
  },
  {
   "cell_type": "code",
   "execution_count": 20,
   "id": "33a9de32",
   "metadata": {},
   "outputs": [
    {
     "data": {
      "text/plain": [
       "<AxesSubplot:xlabel='Date'>"
      ]
     },
     "execution_count": 20,
     "metadata": {},
     "output_type": "execute_result"
    },
    {
     "data": {
      "image/png": "[encoded data removed]",
      "text/plain": [
       "<Figure size 1080x648 with 1 Axes>"
      ]
     },
     "metadata": {
      "needs_background": "light"
     },
     "output_type": "display_data"
    }
   ],
   "source": [
    "# plot the predicted and truth values for 2021\n",
    "\n",
    "plt.figure(figsize = (15, 9))\n",
    "plt.grid(True)\n",
    "\n",
    "date_range = df[pd.DatetimeIndex(df['Date']).year == 2021]['Date'] # dates of the test data used for graph's X_axis\n",
    "sns.lineplot(x=date_range, y=model_predictions, color = 'blue', marker = 'o', label = 'Predicted')\n",
    "sns.lineplot(x=date_range, y=X_test, color = 'red', marker = 'o', label = 'Truth')\n",
    "#there is an offset of one day between Predicted and Truth values"
   ]
  },
  {
   "cell_type": "code",
   "execution_count": 6,
   "id": "4691c47b",
   "metadata": {},
   "outputs": [],
   "source": [
    "#exploratory data analysis (specifically price line graph, make sure dates are proper. sometimes in jumbled order and not sequential.\n",
    "#left to right, oldest to newest. \n",
    "\n",
    "#make sure dates start oldest at the top. newest at bottom.\n",
    "#make sure dates column is in daytime format.\n",
    "\n",
    "#choose which metric one wants for prediction. \n",
    "#open = soft market listing , hypothetical: on march xx, xxxx opening price and on march xx, xxxx closing price. Also,\n",
    "#highest and lowest is top price for the day and lowest for the day. \n",
    "\n",
    "# pick one column for predictions, pick = price column *\n",
    "#one would expect to project 10 days into the future ( more than 1 day).\n",
    "\n",
    "#check pdq values and what they mean\n",
    "\n",
    "#get rid of noise (usually aggregated on week, month)\n",
    "\n",
    "#minimum points for arima is 52 or 53 (weekly level, sunday to saturday)"
   ]
  },
  {
   "cell_type": "code",
   "execution_count": 21,
   "id": "8c546b12",
   "metadata": {},
   "outputs": [
    {
     "data": {
      "image/png": "[encoded data removed]",
      "text/plain": [
       "<Figure size 864x288 with 2 Axes>"
      ]
     },
     "metadata": {
      "needs_background": "light"
     },
     "output_type": "display_data"
    }
   ],
   "source": [
    "residuals = np.array(X_test) - np.array(model_predictions)\n",
    "fig, axes = plt.subplots(1,2, figsize=(12,4))\n",
    "sns.lineplot(x=range(len(residuals)), y = residuals, ax=axes[0])\n",
    "axes[0].set_ylim([-20, 20])\n",
    "axes[0].set_xlim([0, 65])\n",
    "axes[0].set_title(\"Residuals\")\n",
    "sns.histplot(x=residuals, bins=10, kde=True, ax=axes[1])\n",
    "axes[1].set_title(\"Distribution\")\n",
    "plt.show()\n",
    "# the residual errors have a mean of 0 and variance that is normally distributed around mean of 0"
   ]
  },
  {
   "cell_type": "code",
   "execution_count": 22,
   "id": "c1d24a5a",
   "metadata": {},
   "outputs": [
    {
     "data": {
      "text/plain": [
       "array([271.75794518, 271.76084741, 271.76084741, 271.76084741,\n",
       "       271.76084741, 271.76084741, 271.76084741])"
      ]
     },
     "execution_count": 22,
     "metadata": {},
     "output_type": "execute_result"
    }
   ],
   "source": [
    "#forecast the first 7 days of 2021\n",
    "\n",
    "#first reset the training and testing data sets\n",
    "X_train, X_test, X_train_exog, X_test_exog = train_test_sets (df, exog_var = 'Vol.')\n",
    "\n",
    "model = ARIMA(X_train, order = (0, 1, 2))\n",
    "model_fit =  model.fit()\n",
    "output = model_fit.forecast(steps=7)\n",
    "\n",
    "output"
   ]
  },
  {
   "cell_type": "code",
   "execution_count": 23,
   "id": "c4931c33",
   "metadata": {},
   "outputs": [
    {
     "data": {
      "text/plain": [
       "<AxesSubplot:xlabel='Date'>"
      ]
     },
     "execution_count": 23,
     "metadata": {},
     "output_type": "execute_result"
    },
    {
     "data": {
      "image/png": "[encoded data removed]",
      "text/plain": [
       "<Figure size 1080x648 with 1 Axes>"
      ]
     },
     "metadata": {
      "needs_background": "light"
     },
     "output_type": "display_data"
    }
   ],
   "source": [
    "plt.figure(figsize = (15, 9))\n",
    "plt.grid(True)\n",
    "\n",
    "date_range = df[pd.DatetimeIndex(df['Date']).year == 2021]['Date'] # dates of the test data used for graph's X_axis\n",
    "sns.lineplot(x=date_range[0:7], y=output, color = 'blue', marker = 'o', label = 'Predicted')\n",
    "sns.lineplot(x=date_range, y=X_test, color = 'red', marker = 'o', label = 'Truth')\n",
    "#there is an offset of one day between Predicted and Truth values"
   ]
  },
  {
   "cell_type": "code",
   "execution_count": null,
   "id": "7f5106a7",
   "metadata": {},
   "outputs": [],
   "source": []
  },
  {
   "cell_type": "code",
   "execution_count": null,
   "id": "8edf03a6",
   "metadata": {},
   "outputs": [],
   "source": []
  },
  {
   "cell_type": "code",
   "execution_count": null,
   "id": "730022e2",
   "metadata": {},
   "outputs": [],
   "source": [
    "Forecasting past the first day is not accurate. Is this because the AR term of the ARIMA model is zero?"
   ]
  },
  {
   "cell_type": "code",
   "execution_count": 18,
   "id": "42e93222",
   "metadata": {},
   "outputs": [
    {
     "ename": "ValueError",
     "evalue": "maxlag should be < nobs",
     "output_type": "error",
     "traceback": [
      "\u001b[1;31m---------------------------------------------------------------------------\u001b[0m",
      "\u001b[1;31mValueError\u001b[0m                                Traceback (most recent call last)",
      "\u001b[1;32m~\\AppData\\Local\\Temp/ipykernel_14820/3796609604.py\u001b[0m in \u001b[0;36m<module>\u001b[1;34m\u001b[0m\n\u001b[0;32m      5\u001b[0m \u001b[0mdata\u001b[0m \u001b[1;33m=\u001b[0m \u001b[1;33m[\u001b[0m\u001b[1;34m'Price'\u001b[0m\u001b[1;33m]\u001b[0m\u001b[1;33m\u001b[0m\u001b[1;33m\u001b[0m\u001b[0m\n\u001b[0;32m      6\u001b[0m \u001b[1;31m# fit model\u001b[0m\u001b[1;33m\u001b[0m\u001b[1;33m\u001b[0m\u001b[0m\n\u001b[1;32m----> 7\u001b[1;33m \u001b[0mmodel\u001b[0m \u001b[1;33m=\u001b[0m \u001b[0mAutoReg\u001b[0m\u001b[1;33m(\u001b[0m\u001b[0mdata\u001b[0m\u001b[1;33m,\u001b[0m \u001b[0mlags\u001b[0m\u001b[1;33m=\u001b[0m\u001b[1;36m1\u001b[0m\u001b[1;33m)\u001b[0m\u001b[1;33m\u001b[0m\u001b[1;33m\u001b[0m\u001b[0m\n\u001b[0m\u001b[0;32m      8\u001b[0m \u001b[0mmodel_fit\u001b[0m \u001b[1;33m=\u001b[0m \u001b[0mmodel\u001b[0m\u001b[1;33m.\u001b[0m\u001b[0mfit\u001b[0m\u001b[1;33m(\u001b[0m\u001b[1;33m)\u001b[0m\u001b[1;33m\u001b[0m\u001b[1;33m\u001b[0m\u001b[0m\n\u001b[0;32m      9\u001b[0m \u001b[1;31m# make prediction\u001b[0m\u001b[1;33m\u001b[0m\u001b[1;33m\u001b[0m\u001b[0m\n",
      "\u001b[1;32mD:\\Downloads\\Anucleus\\lib\\site-packages\\statsmodels\\tsa\\ar_model.py\u001b[0m in \u001b[0;36m__init__\u001b[1;34m(self, endog, lags, trend, seasonal, exog, hold_back, period, missing, deterministic, old_names)\u001b[0m\n\u001b[0;32m    254\u001b[0m             \u001b[0mself\u001b[0m\u001b[1;33m.\u001b[0m\u001b[0m_old_names\u001b[0m \u001b[1;33m=\u001b[0m \u001b[1;32mTrue\u001b[0m\u001b[1;33m\u001b[0m\u001b[1;33m\u001b[0m\u001b[0m\n\u001b[0;32m    255\u001b[0m         \u001b[0mself\u001b[0m\u001b[1;33m.\u001b[0m\u001b[0m_check_lags\u001b[0m\u001b[1;33m(\u001b[0m\u001b[1;33m)\u001b[0m\u001b[1;33m\u001b[0m\u001b[1;33m\u001b[0m\u001b[0m\n\u001b[1;32m--> 256\u001b[1;33m         \u001b[0mself\u001b[0m\u001b[1;33m.\u001b[0m\u001b[0m_setup_regressors\u001b[0m\u001b[1;33m(\u001b[0m\u001b[1;33m)\u001b[0m\u001b[1;33m\u001b[0m\u001b[1;33m\u001b[0m\u001b[0m\n\u001b[0m\u001b[0;32m    257\u001b[0m         \u001b[0mself\u001b[0m\u001b[1;33m.\u001b[0m\u001b[0mnobs\u001b[0m \u001b[1;33m=\u001b[0m \u001b[0mself\u001b[0m\u001b[1;33m.\u001b[0m\u001b[0m_y\u001b[0m\u001b[1;33m.\u001b[0m\u001b[0mshape\u001b[0m\u001b[1;33m[\u001b[0m\u001b[1;36m0\u001b[0m\u001b[1;33m]\u001b[0m\u001b[1;33m\u001b[0m\u001b[1;33m\u001b[0m\u001b[0m\n\u001b[0;32m    258\u001b[0m         \u001b[0mself\u001b[0m\u001b[1;33m.\u001b[0m\u001b[0mdata\u001b[0m\u001b[1;33m.\u001b[0m\u001b[0mxnames\u001b[0m \u001b[1;33m=\u001b[0m \u001b[0mself\u001b[0m\u001b[1;33m.\u001b[0m\u001b[0mexog_names\u001b[0m\u001b[1;33m\u001b[0m\u001b[1;33m\u001b[0m\u001b[0m\n",
      "\u001b[1;32mD:\\Downloads\\Anucleus\\lib\\site-packages\\statsmodels\\tsa\\ar_model.py\u001b[0m in \u001b[0;36m_setup_regressors\u001b[1;34m(self)\u001b[0m\n\u001b[0;32m    315\u001b[0m         \u001b[0mexog_names\u001b[0m \u001b[1;33m=\u001b[0m \u001b[1;33m[\u001b[0m\u001b[1;33m]\u001b[0m\u001b[1;33m\u001b[0m\u001b[1;33m\u001b[0m\u001b[0m\n\u001b[0;32m    316\u001b[0m         \u001b[0mendog_names\u001b[0m \u001b[1;33m=\u001b[0m \u001b[0mself\u001b[0m\u001b[1;33m.\u001b[0m\u001b[0mendog_names\u001b[0m\u001b[1;33m\u001b[0m\u001b[1;33m\u001b[0m\u001b[0m\n\u001b[1;32m--> 317\u001b[1;33m         \u001b[0mx\u001b[0m\u001b[1;33m,\u001b[0m \u001b[0my\u001b[0m \u001b[1;33m=\u001b[0m \u001b[0mlagmat\u001b[0m\u001b[1;33m(\u001b[0m\u001b[0mself\u001b[0m\u001b[1;33m.\u001b[0m\u001b[0mendog\u001b[0m\u001b[1;33m,\u001b[0m \u001b[0mmaxlag\u001b[0m\u001b[1;33m,\u001b[0m \u001b[0moriginal\u001b[0m\u001b[1;33m=\u001b[0m\u001b[1;34m\"sep\"\u001b[0m\u001b[1;33m)\u001b[0m\u001b[1;33m\u001b[0m\u001b[1;33m\u001b[0m\u001b[0m\n\u001b[0m\u001b[0;32m    318\u001b[0m         exog_names.extend(\n\u001b[0;32m    319\u001b[0m             \u001b[1;33m[\u001b[0m\u001b[0mendog_names\u001b[0m \u001b[1;33m+\u001b[0m \u001b[1;34m\".L{0}\"\u001b[0m\u001b[1;33m.\u001b[0m\u001b[0mformat\u001b[0m\u001b[1;33m(\u001b[0m\u001b[0mlag\u001b[0m\u001b[1;33m)\u001b[0m \u001b[1;32mfor\u001b[0m \u001b[0mlag\u001b[0m \u001b[1;32min\u001b[0m \u001b[0mself\u001b[0m\u001b[1;33m.\u001b[0m\u001b[0m_lags\u001b[0m\u001b[1;33m]\u001b[0m\u001b[1;33m\u001b[0m\u001b[1;33m\u001b[0m\u001b[0m\n",
      "\u001b[1;32mD:\\Downloads\\Anucleus\\lib\\site-packages\\statsmodels\\tsa\\tsatools.py\u001b[0m in \u001b[0;36mlagmat\u001b[1;34m(x, maxlag, trim, original, use_pandas)\u001b[0m\n\u001b[0;32m    429\u001b[0m         \u001b[0mdropidx\u001b[0m \u001b[1;33m=\u001b[0m \u001b[0mnvar\u001b[0m\u001b[1;33m\u001b[0m\u001b[1;33m\u001b[0m\u001b[0m\n\u001b[0;32m    430\u001b[0m     \u001b[1;32mif\u001b[0m \u001b[0mmaxlag\u001b[0m \u001b[1;33m>=\u001b[0m \u001b[0mnobs\u001b[0m\u001b[1;33m:\u001b[0m\u001b[1;33m\u001b[0m\u001b[1;33m\u001b[0m\u001b[0m\n\u001b[1;32m--> 431\u001b[1;33m         \u001b[1;32mraise\u001b[0m \u001b[0mValueError\u001b[0m\u001b[1;33m(\u001b[0m\u001b[1;34m\"maxlag should be < nobs\"\u001b[0m\u001b[1;33m)\u001b[0m\u001b[1;33m\u001b[0m\u001b[1;33m\u001b[0m\u001b[0m\n\u001b[0m\u001b[0;32m    432\u001b[0m     \u001b[0mlm\u001b[0m \u001b[1;33m=\u001b[0m \u001b[0mnp\u001b[0m\u001b[1;33m.\u001b[0m\u001b[0mzeros\u001b[0m\u001b[1;33m(\u001b[0m\u001b[1;33m(\u001b[0m\u001b[0mnobs\u001b[0m \u001b[1;33m+\u001b[0m \u001b[0mmaxlag\u001b[0m\u001b[1;33m,\u001b[0m \u001b[0mnvar\u001b[0m \u001b[1;33m*\u001b[0m \u001b[1;33m(\u001b[0m\u001b[0mmaxlag\u001b[0m \u001b[1;33m+\u001b[0m \u001b[1;36m1\u001b[0m\u001b[1;33m)\u001b[0m\u001b[1;33m)\u001b[0m\u001b[1;33m)\u001b[0m\u001b[1;33m\u001b[0m\u001b[1;33m\u001b[0m\u001b[0m\n\u001b[0;32m    433\u001b[0m     \u001b[1;32mfor\u001b[0m \u001b[0mk\u001b[0m \u001b[1;32min\u001b[0m \u001b[0mrange\u001b[0m\u001b[1;33m(\u001b[0m\u001b[1;36m0\u001b[0m\u001b[1;33m,\u001b[0m \u001b[0mint\u001b[0m\u001b[1;33m(\u001b[0m\u001b[0mmaxlag\u001b[0m \u001b[1;33m+\u001b[0m \u001b[1;36m1\u001b[0m\u001b[1;33m)\u001b[0m\u001b[1;33m)\u001b[0m\u001b[1;33m:\u001b[0m\u001b[1;33m\u001b[0m\u001b[1;33m\u001b[0m\u001b[0m\n",
      "\u001b[1;31mValueError\u001b[0m: maxlag should be < nobs"
     ]
    }
   ],
   "source": [
    "#autoregression\n",
    "from statsmodels.tsa.ar_model import AutoReg\n",
    "from random import random\n",
    "# contrived dataset\n",
    "data = ['Price']\n",
    "# fit model\n",
    "model = AutoReg(data, lags=1)\n",
    "model_fit = model.fit()\n",
    "# make prediction\n",
    "yhat = model_fit.predict(len(data), len(data))\n",
    "print(yhat)"
   ]
  },
  {
   "cell_type": "code",
   "execution_count": 8,
   "id": "3a30532f",
   "metadata": {},
   "outputs": [
    {
     "name": "stdout",
     "output_type": "stream",
     "text": [
      "[74.57867034]\n"
     ]
    }
   ],
   "source": [
    "#Moving average\n",
    "from statsmodels.tsa.arima.model import ARIMA\n",
    "from random import random\n",
    "# contrived dataset\n",
    "data = [x + random() for x in range(1, 100)]\n",
    "# fit model\n",
    "model = ARIMA(data, order=(0, 0, 1))\n",
    "model_fit = model.fit()\n",
    "# make prediction\n",
    "yhat = model_fit.predict(len(data), len(data))\n",
    "print(yhat)\n"
   ]
  },
  {
   "cell_type": "code",
   "execution_count": 9,
   "id": "2edda352",
   "metadata": {},
   "outputs": [
    {
     "name": "stdout",
     "output_type": "stream",
     "text": [
      "[0.55123373]\n"
     ]
    }
   ],
   "source": [
    "#ARMA\n",
    "from statsmodels.tsa.arima.model import ARIMA\n",
    "from random import random\n",
    "# contrived dataset\n",
    "data = [random() for x in range(1, 100)]\n",
    "# fit model\n",
    "model = ARIMA(data, order=(2, 0, 1))\n",
    "model_fit = model.fit()\n",
    "# make prediction\n",
    "yhat = model_fit.predict(len(data), len(data))\n",
    "print(yhat)"
   ]
  },
  {
   "cell_type": "code",
   "execution_count": 6,
   "id": "8417c322",
   "metadata": {
    "scrolled": true
   },
   "outputs": [
    {
     "name": "stderr",
     "output_type": "stream",
     "text": [
      "D:\\Downloads\\Anucleus\\lib\\site-packages\\statsmodels\\tsa\\statespace\\sarimax.py:966: UserWarning: Non-stationary starting autoregressive parameters found. Using zeros as starting parameters.\n",
      "  warn('Non-stationary starting autoregressive parameters'\n",
      "D:\\Downloads\\Anucleus\\lib\\site-packages\\statsmodels\\tsa\\statespace\\sarimax.py:978: UserWarning: Non-invertible starting MA parameters found. Using zeros as starting parameters.\n",
      "  warn('Non-invertible starting MA parameters found.'\n",
      "D:\\Downloads\\Anucleus\\lib\\site-packages\\statsmodels\\base\\model.py:566: ConvergenceWarning: Maximum Likelihood optimization failed to converge. Check mle_retvals\n",
      "  warnings.warn(\"Maximum Likelihood optimization failed to \"\n"
     ]
    },
    {
     "name": "stdout",
     "output_type": "stream",
     "text": [
      "[100.23854055]\n"
     ]
    }
   ],
   "source": [
    "#Arima\n",
    "from statsmodels.tsa.arima.model import ARIMA\n",
    "from random import random\n",
    "# contrived dataset\n",
    "data =  (need oldest to newest, input price*****)\n",
    "# fit model\n",
    "model = ARIMA(data, order=(1, 1, 1))\n",
    "model_fit = model.fit()\n",
    "# make prediction\n",
    "yhat = model_fit.predict(len(data), len(data), typ='levels')\n",
    "print(yhat)"
   ]
  },
  {
   "cell_type": "code",
   "execution_count": 11,
   "id": "ec10ae51",
   "metadata": {},
   "outputs": [
    {
     "name": "stdout",
     "output_type": "stream",
     "text": [
      "[100.47347427]\n"
     ]
    },
    {
     "name": "stderr",
     "output_type": "stream",
     "text": [
      "D:\\Downloads\\Anucleus\\lib\\site-packages\\statsmodels\\base\\model.py:566: ConvergenceWarning: Maximum Likelihood optimization failed to converge. Check mle_retvals\n",
      "  warnings.warn(\"Maximum Likelihood optimization failed to \"\n"
     ]
    }
   ],
   "source": [
    "#Sarima\n",
    "from statsmodels.tsa.statespace.sarimax import SARIMAX\n",
    "from random import random\n",
    "# contrived dataset\n",
    "data = [x + random() for x in range(1, 100)]\n",
    "# fit model\n",
    "model = SARIMAX(data, order=(1, 1, 1), seasonal_order=(0, 0, 0, 0))\n",
    "model_fit = model.fit(disp=False)\n",
    "# make prediction\n",
    "yhat = model_fit.predict(len(data), len(data))\n",
    "print(yhat)"
   ]
  },
  {
   "cell_type": "code",
   "execution_count": 12,
   "id": "9cf49609",
   "metadata": {},
   "outputs": [
    {
     "name": "stdout",
     "output_type": "stream",
     "text": [
      "[100.7477554]\n"
     ]
    }
   ],
   "source": [
    "# SARIMAX example\n",
    "from statsmodels.tsa.statespace.sarimax import SARIMAX\n",
    "from random import random\n",
    "# contrived dataset\n",
    "data1 = [x + random() for x in range(1, 100)]\n",
    "data2 = [x + random() for x in range(101, 200)]\n",
    "# fit model\n",
    "model = SARIMAX(data1, exog=data2, order=(1, 1, 1), seasonal_order=(0, 0, 0, 0))\n",
    "model_fit = model.fit(disp=False)\n",
    "# make prediction\n",
    "exog2 = [200 + random()]\n",
    "yhat = model_fit.predict(len(data1), len(data1), exog=[exog2])\n",
    "print(yhat)"
   ]
  },
  {
   "cell_type": "code",
   "execution_count": 13,
   "id": "a624a70c",
   "metadata": {},
   "outputs": [
    {
     "name": "stdout",
     "output_type": "stream",
     "text": [
      "[[100.35821415 100.9187898 ]]\n"
     ]
    },
    {
     "name": "stderr",
     "output_type": "stream",
     "text": [
      "D:\\Downloads\\Anucleus\\lib\\site-packages\\statsmodels\\base\\wrapper.py:34: FutureWarning: y is a deprecated alias for endog, will be removed in version 0.11.0\n",
      "  obj = getattr(results, attr)\n"
     ]
    }
   ],
   "source": [
    "# Vector autoregression example\n",
    "from statsmodels.tsa.vector_ar.var_model import VAR\n",
    "from random import random\n",
    "# contrived dataset with dependency\n",
    "data = list()\n",
    "for i in range(100):\n",
    "    v1 = i + random()\n",
    "    v2 = v1 + random()\n",
    "    row = [v1, v2]\n",
    "    data.append(row)\n",
    "# fit model\n",
    "model = VAR(data)\n",
    "model_fit = model.fit()\n",
    "# make prediction\n",
    "yhat = model_fit.forecast(model_fit.y, steps=1)\n",
    "print(yhat)\n"
   ]
  },
  {
   "cell_type": "code",
   "execution_count": 14,
   "id": "852d9e04",
   "metadata": {},
   "outputs": [
    {
     "name": "stderr",
     "output_type": "stream",
     "text": [
      "D:\\Downloads\\Anucleus\\lib\\site-packages\\statsmodels\\tsa\\statespace\\varmax.py:161: EstimationWarning: Estimation of VARMA(p,q) models is not generically robust, due especially to identification issues.\n",
      "  warn('Estimation of VARMA(p,q) models is not generically robust,'\n"
     ]
    },
    {
     "name": "stdout",
     "output_type": "stream",
     "text": [
      "[[0.57093718 1.02898978]]\n"
     ]
    },
    {
     "name": "stderr",
     "output_type": "stream",
     "text": [
      "D:\\Downloads\\Anucleus\\lib\\site-packages\\statsmodels\\base\\model.py:566: ConvergenceWarning: Maximum Likelihood optimization failed to converge. Check mle_retvals\n",
      "  warnings.warn(\"Maximum Likelihood optimization failed to \"\n"
     ]
    }
   ],
   "source": [
    "# Vector autoregression moving average example\n",
    "from statsmodels.tsa.statespace.varmax import VARMAX\n",
    "from random import random\n",
    "# contrived dataset with dependency\n",
    "data = list()\n",
    "for i in range(100):\n",
    "    v1 = random()\n",
    "    v2 = v1 + random()\n",
    "    row = [v1, v2]\n",
    "    data.append(row)\n",
    "# fit model\n",
    "model = VARMAX(data, order=(1, 1))\n",
    "model_fit = model.fit(disp=False)\n",
    "# make prediction\n",
    "yhat = model_fit.forecast()\n",
    "print(yhat)"
   ]
  },
  {
   "cell_type": "code",
   "execution_count": 15,
   "id": "a3236397",
   "metadata": {},
   "outputs": [
    {
     "name": "stderr",
     "output_type": "stream",
     "text": [
      "D:\\Downloads\\Anucleus\\lib\\site-packages\\statsmodels\\tsa\\statespace\\varmax.py:161: EstimationWarning: Estimation of VARMA(p,q) models is not generically robust, due especially to identification issues.\n",
      "  warn('Estimation of VARMA(p,q) models is not generically robust,'\n"
     ]
    },
    {
     "name": "stdout",
     "output_type": "stream",
     "text": [
      "[[0.41487061 1.03500114]]\n"
     ]
    },
    {
     "name": "stderr",
     "output_type": "stream",
     "text": [
      "D:\\Downloads\\Anucleus\\lib\\site-packages\\statsmodels\\base\\model.py:566: ConvergenceWarning: Maximum Likelihood optimization failed to converge. Check mle_retvals\n",
      "  warnings.warn(\"Maximum Likelihood optimization failed to \"\n",
      "D:\\Downloads\\Anucleus\\lib\\site-packages\\statsmodels\\tsa\\statespace\\varmax.py:161: EstimationWarning: Estimation of VARMA(p,q) models is not generically robust, due especially to identification issues.\n",
      "  warn('Estimation of VARMA(p,q) models is not generically robust,'\n",
      "D:\\Downloads\\Anucleus\\lib\\site-packages\\statsmodels\\tsa\\statespace\\varmax.py:161: EstimationWarning: Estimation of VARMA(p,q) models is not generically robust, due especially to identification issues.\n",
      "  warn('Estimation of VARMA(p,q) models is not generically robust,'\n"
     ]
    }
   ],
   "source": [
    "# Vector autoregression moving average with EXogenous regressors VARMAX example\n",
    "from statsmodels.tsa.statespace.varmax import VARMAX\n",
    "from random import random\n",
    "# contrived dataset with dependency\n",
    "data = list()\n",
    "for i in range(100):\n",
    "    v1 = random()\n",
    "    v2 = v1 + random()\n",
    "    row = [v1, v2]\n",
    "    data.append(row)\n",
    "data_exog = [x + random() for x in range(100)]\n",
    "# fit model\n",
    "model = VARMAX(data, exog=data_exog, order=(1, 1))\n",
    "model_fit = model.fit(disp=False)\n",
    "# make prediction\n",
    "data_exog2 = [[100]]\n",
    "yhat = model_fit.forecast(exog=data_exog2)\n",
    "print(yhat)"
   ]
  },
  {
   "cell_type": "code",
   "execution_count": 16,
   "id": "e3bd522b",
   "metadata": {},
   "outputs": [
    {
     "name": "stdout",
     "output_type": "stream",
     "text": [
      "[99.26608477]\n"
     ]
    },
    {
     "name": "stderr",
     "output_type": "stream",
     "text": [
      "D:\\Downloads\\Anucleus\\lib\\site-packages\\statsmodels\\tsa\\holtwinters\\model.py:427: FutureWarning: After 0.13 initialization must be handled at model creation\n",
      "  warnings.warn(\n"
     ]
    }
   ],
   "source": [
    "# Simple exponential smoothing example\n",
    "from statsmodels.tsa.holtwinters import SimpleExpSmoothing\n",
    "from random import random\n",
    "# contrived dataset\n",
    "data = [x + random() for x in range(1, 100)]\n",
    "# fit model\n",
    "model = SimpleExpSmoothing(data)\n",
    "model_fit = model.fit()\n",
    "# make prediction\n",
    "yhat = model_fit.predict(len(data), len(data))\n",
    "print(yhat)"
   ]
  },
  {
   "cell_type": "code",
   "execution_count": 17,
   "id": "826a9e6d",
   "metadata": {},
   "outputs": [
    {
     "name": "stdout",
     "output_type": "stream",
     "text": [
      "[99.72963162]\n"
     ]
    }
   ],
   "source": [
    "# Holt Winter's Exponential Smoothing example\n",
    "from statsmodels.tsa.holtwinters import ExponentialSmoothing\n",
    "from random import random\n",
    "# contrived dataset\n",
    "data = [x + random() for x in range(1, 100)]\n",
    "# fit model\n",
    "model = ExponentialSmoothing(data)\n",
    "model_fit = model.fit()\n",
    "# make prediction\n",
    "yhat = model_fit.predict(len(data), len(data))\n",
    "print(yhat)\n"
   ]
  },
  {
   "cell_type": "code",
   "execution_count": null,
   "id": "0a6e4aa3",
   "metadata": {},
   "outputs": [],
   "source": []
  }
 ],
 "metadata": {
  "kernelspec": {
   "display_name": "Python 3 (ipykernel)",
   "language": "python",
   "name": "python3"
  },
  "language_info": {
   "codemirror_mode": {
    "name": "ipython",
    "version": 3
   },
   "file_extension": ".py",
   "mimetype": "text/x-python",
   "name": "python",
   "nbconvert_exporter": "python",
   "pygments_lexer": "ipython3",
   "version": "3.9.7"
  }
 },
 "nbformat": 4,
 "nbformat_minor": 5
}
